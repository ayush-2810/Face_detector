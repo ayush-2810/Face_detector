{
 "cells": [
  {
   "cell_type": "code",
   "execution_count": null,
   "metadata": {},
   "outputs": [],
   "source": [
    "# For detecting face\n",
    "\n",
    "\n",
    "import cv2   # Importing cv2 module for detecting face.\n",
    "cam = cv2.VideoCapture(0)   # For capturing video in form of various images.\n",
    "\n",
    "detector=cv2.CascadeClassifier('haarcascade_frontalface_default.xml')   # We are using face classifier.\n",
    "\n",
    "while(True):\n",
    "    ret, img = cam.read()   # ret = True if camera is able to read images.\n",
    "                            # img captures all the images.\n",
    "        \n",
    "    gray = cv2.cvtColor(img, cv2.COLOR_BGR2GRAY)   # Converting all the images in grayscale as classifier works in gray color.\n",
    "    faces = detector.detectMultiScale(gray, 1.3, 5)   # Scale factor = 1.3 which adjusts size of image to detect properly.\n",
    "                                                      # Neighbors = 5\n",
    "        \n",
    "    for (x, y, w, h) in faces:   # x,y,w,h are the co-ordinates of the face.\n",
    "        cv2.rectangle(img, (x, y), (x+w, y+h), (255, 0, 0), 2)   # For drawing rectangle at co-ordinates of the image. \n",
    "                                                         # Color of rectangle(255, 0, 0) \n",
    "                                                         # Thickness of rectangle = 2\n",
    "        \n",
    "    cv2.imshow('frame', img)   # For showing the image.\n",
    "    if cv2.waitKey(1)==ord('q'):    # Pressing 'q' exits from the window.\n",
    "         break\n",
    "\n",
    "cam.release()\n",
    "cv2.destroyAllWindows()"
   ]
  }
 ],
 "metadata": {
  "kernelspec": {
   "display_name": "Python 3",
   "language": "python",
   "name": "python3"
  },
  "language_info": {
   "codemirror_mode": {
    "name": "ipython",
    "version": 3
   },
   "file_extension": ".py",
   "mimetype": "text/x-python",
   "name": "python",
   "nbconvert_exporter": "python",
   "pygments_lexer": "ipython3",
   "version": "3.7.0"
  }
 },
 "nbformat": 4,
 "nbformat_minor": 2
}
